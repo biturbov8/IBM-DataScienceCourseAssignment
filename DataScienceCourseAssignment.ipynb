{
 "cells": [
  {
   "cell_type": "markdown",
   "id": "bdd06957-46ce-49bb-aa4b-0552e8cbb40f",
   "metadata": {},
   "source": [
    "Data Science Tools"
   ]
  },
  {
   "cell_type": "markdown",
   "id": "6bb12816-5566-400d-a7b1-7cc8252ad89f",
   "metadata": {},
   "source": [
    "I Like Data Science as it is very intresting to learn and visualize data!"
   ]
  },
  {
   "cell_type": "markdown",
   "id": "83ffc3a1-21e3-4868-9d8f-b1cae3929cd0",
   "metadata": {},
   "source": [
    "Languages for Data Science:\n",
    "\n",
    "1. Python\n",
    "2. Julia\n",
    "3. Ruby\n",
    "4. Pandas\n",
    "5. JavaScript\n",
    "6. R \n",
    "\n",
    "\n",
    "\n"
   ]
  },
  {
   "cell_type": "markdown",
   "id": "b25aa26f-eb4c-4ac8-b42b-34e73d19b575",
   "metadata": {},
   "source": [
    "**Data Science Tools**\n",
    "\n",
    "|                    |\n",
    "|--------------------|\n",
    "| Jupyter Notebook  |\n",
    "| Apache Hadoop     |\n",
    "| Apache Spark      |\n"
   ]
  },
  {
   "cell_type": "markdown",
   "id": "8b2c29d4-c602-4f55-8ea9-3dbe999e3edc",
   "metadata": {},
   "source": [
    "Below are a few examples of evaluating arithmetic expressions in Python"
   ]
  },
  {
   "cell_type": "code",
   "execution_count": 11,
   "id": "7d675e20-e111-428b-a7be-6b9ecb4143c8",
   "metadata": {},
   "outputs": [
    {
     "data": {
      "text/plain": [
       "17"
      ]
     },
     "execution_count": 11,
     "metadata": {},
     "output_type": "execute_result"
    }
   ],
   "source": [
    "#This is a simple arithmetic expression to multiply then add integers\n",
    "\n",
    "(3*4)+5"
   ]
  },
  {
   "cell_type": "markdown",
   "id": "c9f93778-b529-45e4-a691-80211b0ad0c1",
   "metadata": {},
   "source": [
    "Below code to convert mins to hrs"
   ]
  },
  {
   "cell_type": "code",
   "execution_count": 14,
   "id": "94d86cfb-dbf8-4d95-a403-8e8382e9bb5c",
   "metadata": {},
   "outputs": [
    {
     "name": "stdout",
     "output_type": "stream",
     "text": [
      "3 hrs\n"
     ]
    }
   ],
   "source": [
    "#This will convert 200 minutes to hours by dividing by 60\n",
    "\n",
    "hours = 200\n",
    "minutes = 60\n",
    "hrs = hours//minutes\n",
    "\n",
    "print(hours//minutes,\"hrs\")"
   ]
  },
  {
   "cell_type": "markdown",
   "id": "6d3a60a6-9e3f-48ef-be8b-f8463ae899ca",
   "metadata": {},
   "source": [
    "Objectives:\n",
    "List some of the popular languages used by Data Scientists\n",
    "List the libraries commonly used by Data Scientists\n",
    "List a few popular tools used by Data Scientists\n",
    "Evaluate a couple simple arithmetic expressions using Python"
   ]
  },
  {
   "cell_type": "markdown",
   "id": "1a90aece-0aae-450e-bf1a-48b6dc3f2f14",
   "metadata": {},
   "source": [
    "Author\n",
    "\n",
    "Surya"
   ]
  },
  {
   "cell_type": "markdown",
   "id": "8306e14a-9101-4704-8a85-dd7494cf10ee",
   "metadata": {},
   "source": [
    "Some of the commonly used libraries used by Data Scientists include:\n",
    "NumPy\n",
    "Scikit-Learn\n",
    "Plotly\n",
    "SciPy\n",
    "PyTorch\n",
    "Apache Spark"
   ]
  },
  {
   "cell_type": "markdown",
   "id": "07cec35c-2cc8-40d7-a018-3dbb5a822a15",
   "metadata": {},
   "source": [
    "# In this notebook, Data Science Tools and Ecosystem are summarized.\n",
    "\n",
    "## Objectives:\n",
    "- List some of the popular languages used by Data Scientists\n",
    "- List the libraries commonly used by Data Scientists\n",
    "- List a few popular tools used by Data Scientists\n",
    "- Evaluate a couple simple arithmetic expressions using Python\n"
   ]
  },
  {
   "cell_type": "code",
   "execution_count": null,
   "id": "1a05f731-8faa-4303-abc0-f2903a7791d4",
   "metadata": {},
   "outputs": [],
   "source": []
  }
 ],
 "metadata": {
  "kernelspec": {
   "display_name": "Python 3 (ipykernel)",
   "language": "python",
   "name": "python3"
  },
  "language_info": {
   "codemirror_mode": {
    "name": "ipython",
    "version": 3
   },
   "file_extension": ".py",
   "mimetype": "text/x-python",
   "name": "python",
   "nbconvert_exporter": "python",
   "pygments_lexer": "ipython3",
   "version": "3.12.4"
  }
 },
 "nbformat": 4,
 "nbformat_minor": 5
}
